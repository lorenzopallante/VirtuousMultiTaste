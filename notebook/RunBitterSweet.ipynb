{
 "cells": [
  {
   "attachments": {},
   "cell_type": "markdown",
   "metadata": {},
   "source": [
    "# USE BITTERSWEET2 conda env with all necessary packages and dependencies installed"
   ]
  },
  {
   "cell_type": "code",
   "execution_count": 2,
   "metadata": {},
   "outputs": [],
   "source": [
    "import pandas as pd\n",
    "import numpy as np\n",
    "import matplotlib.pyplot as plt\n",
    "import subprocess\n",
    "import os"
   ]
  },
  {
   "cell_type": "code",
   "execution_count": 3,
   "metadata": {},
   "outputs": [],
   "source": [
    "# define paths\n",
    "notebook_path = os.path.realpath(os.getcwd())\n",
    "root_dir_path = os.path.dirname(notebook_path)\n",
    "code_path = root_dir_path + os.sep + \"VirtuousMultiTaste\" + os.sep\n",
    "src_path = code_path + os.sep + \"src\" + os.sep\n",
    "data_path = root_dir_path + os.sep + \"data\" + os.sep\n",
    "test_path = os.path.join(notebook_path, 'test')\n",
    "\n",
    "# bittersweet path\n",
    "bittersweet_path = '/home/lorenzo/Scaricati/bittersweet/'"
   ]
  },
  {
   "cell_type": "code",
   "execution_count": 4,
   "metadata": {},
   "outputs": [],
   "source": [
    "test_file = bittersweet_path + 'examples/test.smi'\n",
    "out_dir = bittersweet_path + 'test_out/'"
   ]
  },
  {
   "cell_type": "code",
   "execution_count": 6,
   "metadata": {},
   "outputs": [],
   "source": [
    "## Predict train and test compiunds taste using BitterSweet model\n",
    "test_file = data_path + 'Bitter_sweet_external_dataset.csv'\n",
    "\n",
    "# create text files for bittersweet\n",
    "df_test = pd.read_csv(test_file, sep=',')\n",
    "df_test[[\"Taste\", \"Parent_SMILES\"]].to_csv(data_path + 'test_for_bittersweet.csv', sep=',', index=False, header=False)"
   ]
  },
  {
   "attachments": {},
   "cell_type": "markdown",
   "metadata": {},
   "source": [
    "### Predict test of VirtuousMultiTaste"
   ]
  },
  {
   "cell_type": "code",
   "execution_count": 8,
   "metadata": {},
   "outputs": [
    {
     "name": "stderr",
     "output_type": "stream",
     "text": [
      "/home/lorenzo/anaconda3/envs/VIRTUOUS/lib/python3.8/site-packages/sklearn/utils/deprecation.py:144: FutureWarning: The sklearn.ensemble.forest module is  deprecated in version 0.22 and will be removed in version 0.24. The corresponding classes / functions should instead be imported from sklearn.ensemble. Anything that cannot be imported from sklearn.ensemble is now part of the private API.\n",
      "  warnings.warn(message, FutureWarning)\n"
     ]
    }
   ],
   "source": [
    "if not os.path.exists(data_path + '/bittersweet/'):\n",
    "    os.makedirs(data_path + '/bittersweet/')\n",
    "\n",
    "os.chdir(bittersweet_path)\n",
    "\n",
    "subprocess.call(['python', bittersweet_path +  'predict.py', data_path + 'test_for_bittersweet.csv' , 'smiles', data_path + '/bittersweet/'])"
   ]
  }
 ],
 "metadata": {
  "kernelspec": {
   "display_name": "bittersweet2",
   "language": "python",
   "name": "python3"
  },
  "language_info": {
   "codemirror_mode": {
    "name": "ipython",
    "version": 3
   },
   "file_extension": ".py",
   "mimetype": "text/x-python",
   "name": "python",
   "nbconvert_exporter": "python",
   "pygments_lexer": "ipython3",
   "version": "3.8.12"
  },
  "orig_nbformat": 4
 },
 "nbformat": 4,
 "nbformat_minor": 2
}
