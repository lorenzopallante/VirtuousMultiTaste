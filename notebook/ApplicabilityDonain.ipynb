{
 "cells": [
  {
   "cell_type": "code",
   "execution_count": 1,
   "id": "90889e6e-3fb2-456a-981c-493ba94a11a8",
   "metadata": {},
   "outputs": [],
   "source": [
    "import os\n",
    "import numpy as np\n",
    "import pandas as pd\n",
    "import sys\n",
    "import pickle\n",
    "from tqdm.notebook import tqdm, trange\n",
    "import rdkit \n",
    "from rdkit import Chem, DataStructs\n",
    "from rdkit.Chem import AllChem\n",
    "from rdkit.Chem.Draw import SimilarityMaps\n",
    "import matplotlib.pyplot as plt\n",
    "from sklearn.model_selection import train_test_split\n",
    "import seaborn as sns\n",
    "import mols2grid\n",
    "import subprocess"
   ]
  },
  {
   "cell_type": "code",
   "execution_count": 2,
   "id": "84c14a54",
   "metadata": {},
   "outputs": [],
   "source": [
    "# define paths\n",
    "notebook_path = os.path.realpath(os.getcwd())\n",
    "root_dir_path = os.path.dirname(notebook_path)\n",
    "code_path = root_dir_path + os.sep + \"VirtuousMultiTaste\" + os.sep\n",
    "src_path = code_path + os.sep + \"src\" + os.sep\n",
    "data_path = root_dir_path + os.sep + \"data\" + os.sep\n",
    "test_path = os.path.join(notebook_path, 'test')"
   ]
  },
  {
   "cell_type": "code",
   "execution_count": 3,
   "id": "e31ba311",
   "metadata": {},
   "outputs": [
    {
     "name": "stderr",
     "output_type": "stream",
     "text": [
      "[13:07:48] Initializing Normalizer\n"
     ]
    }
   ],
   "source": [
    "# import Virtuous Library\n",
    "sys.path.append(code_path)\n",
    "import Virtuous"
   ]
  },
  {
   "cell_type": "code",
   "execution_count": 4,
   "id": "174b537d",
   "metadata": {},
   "outputs": [
    {
     "data": {
      "text/plain": [
       "'1.11'"
      ]
     },
     "execution_count": 4,
     "metadata": {},
     "output_type": "execute_result"
    }
   ],
   "source": [
    "Virtuous.__version__"
   ]
  },
  {
   "attachments": {},
   "cell_type": "markdown",
   "id": "daefb75f-3899-4326-a372-2fef47e8597c",
   "metadata": {},
   "source": [
    "## Load DBs"
   ]
  },
  {
   "cell_type": "code",
   "execution_count": 5,
   "id": "8b7b9a76-ff28-4381-ac38-659a50d683e1",
   "metadata": {},
   "outputs": [],
   "source": [
    "# path to the file in the Dropbox folder \n",
    "fourTaste_train_file = data_path +  \"training_dataset_fourtaste_problem.csv\"\n",
    "fourTaste_test_file  = data_path +  \"testing_dataset_fourtaste_problem.csv\""
   ]
  },
  {
   "cell_type": "code",
   "execution_count": 6,
   "id": "7895da55-a20c-414c-ba21-b78bd6d7dcfe",
   "metadata": {},
   "outputs": [],
   "source": [
    "DB_train = pd.read_csv(fourTaste_train_file, sep=\"\\t\", low_memory=False)\n",
    "DB_test  = pd.read_csv(fourTaste_test_file,  sep=\"\\t\", low_memory=False)\n",
    "DB = pd.concat([DB_train, DB_test], axis=0)"
   ]
  },
  {
   "cell_type": "code",
   "execution_count": 7,
   "id": "ac5f9e87",
   "metadata": {},
   "outputs": [
    {
     "data": {
      "text/html": [
       "<div>\n",
       "<style scoped>\n",
       "    .dataframe tbody tr th:only-of-type {\n",
       "        vertical-align: middle;\n",
       "    }\n",
       "\n",
       "    .dataframe tbody tr th {\n",
       "        vertical-align: top;\n",
       "    }\n",
       "\n",
       "    .dataframe thead th {\n",
       "        text-align: right;\n",
       "    }\n",
       "</style>\n",
       "<table border=\"1\" class=\"dataframe\">\n",
       "  <thead>\n",
       "    <tr style=\"text-align: right;\">\n",
       "      <th></th>\n",
       "      <th>Unnamed: 0</th>\n",
       "      <th>Taste</th>\n",
       "      <th>Std_SMILES</th>\n",
       "      <th>Parent_SMILES</th>\n",
       "      <th>SEQUENCE</th>\n",
       "    </tr>\n",
       "  </thead>\n",
       "  <tbody>\n",
       "    <tr>\n",
       "      <th>0</th>\n",
       "      <td>0</td>\n",
       "      <td>Umami</td>\n",
       "      <td>C[C@H](NC(=O)[C@@H]1CCCN1)C(=O)N[C@@H](CCC(N)=...</td>\n",
       "      <td>C[C@H](NC(=O)[C@@H]1CCCN1)C(=O)N[C@@H](CCC(N)=...</td>\n",
       "      <td>PAQ</td>\n",
       "    </tr>\n",
       "    <tr>\n",
       "      <th>1</th>\n",
       "      <td>1</td>\n",
       "      <td>Bitter</td>\n",
       "      <td>OC/C=C/c1ccccc1</td>\n",
       "      <td>OC/C=C/c1ccccc1</td>\n",
       "      <td>NaN</td>\n",
       "    </tr>\n",
       "    <tr>\n",
       "      <th>2</th>\n",
       "      <td>2</td>\n",
       "      <td>Tasteless</td>\n",
       "      <td>COc1ccc(C(=O)c2ccccc2C(=O)O)cc1OC</td>\n",
       "      <td>COc1ccc(C(=O)c2ccccc2C(=O)O)cc1OC</td>\n",
       "      <td>NaN</td>\n",
       "    </tr>\n",
       "    <tr>\n",
       "      <th>3</th>\n",
       "      <td>3</td>\n",
       "      <td>Sweet</td>\n",
       "      <td>CC(C)CC1OC(CC(C)C)OC(CC(C)C)O1</td>\n",
       "      <td>CC(C)CC1OC(CC(C)C)OC(CC(C)C)O1</td>\n",
       "      <td>NaN</td>\n",
       "    </tr>\n",
       "    <tr>\n",
       "      <th>4</th>\n",
       "      <td>4</td>\n",
       "      <td>Sweet</td>\n",
       "      <td>C=CC(C)(CCC=C(C)C)OC(=O)/C=C/c1ccccc1</td>\n",
       "      <td>C=CC(C)(CCC=C(C)C)OC(=O)/C=C/c1ccccc1</td>\n",
       "      <td>NaN</td>\n",
       "    </tr>\n",
       "    <tr>\n",
       "      <th>...</th>\n",
       "      <td>...</td>\n",
       "      <td>...</td>\n",
       "      <td>...</td>\n",
       "      <td>...</td>\n",
       "      <td>...</td>\n",
       "    </tr>\n",
       "    <tr>\n",
       "      <th>3405</th>\n",
       "      <td>3405</td>\n",
       "      <td>Sweet</td>\n",
       "      <td>O=C1NS(=O)(=O)c2cscc12</td>\n",
       "      <td>O=C1NS(=O)(=O)c2cscc12</td>\n",
       "      <td>NaN</td>\n",
       "    </tr>\n",
       "    <tr>\n",
       "      <th>3406</th>\n",
       "      <td>3406</td>\n",
       "      <td>Sweet</td>\n",
       "      <td>COCC(NC(=Nc1ccc(C#N)cc1)NCC(=O)O)c1ccccc1</td>\n",
       "      <td>COCC(NC(=Nc1ccc(C#N)cc1)NCC(=O)O)c1ccccc1</td>\n",
       "      <td>NaN</td>\n",
       "    </tr>\n",
       "    <tr>\n",
       "      <th>3407</th>\n",
       "      <td>3407</td>\n",
       "      <td>Sweet</td>\n",
       "      <td>CC(C)(C)OC(=O)CCNC(=O)C(N)CC(=O)O</td>\n",
       "      <td>CC(C)(C)OC(=O)CCNC(=O)C(N)CC(=O)O</td>\n",
       "      <td>NaN</td>\n",
       "    </tr>\n",
       "    <tr>\n",
       "      <th>3408</th>\n",
       "      <td>3408</td>\n",
       "      <td>Sweet</td>\n",
       "      <td>CC(C)=CCC/C(C)=C/COC(=O)Cc1ccccc1</td>\n",
       "      <td>CC(C)=CCC/C(C)=C/COC(=O)Cc1ccccc1</td>\n",
       "      <td>NaN</td>\n",
       "    </tr>\n",
       "    <tr>\n",
       "      <th>3409</th>\n",
       "      <td>3409</td>\n",
       "      <td>Bitter</td>\n",
       "      <td>CCOC(CN(S(=O)(=O)[O-])S(=O)(=O)[O-])OCC.[Na+]....</td>\n",
       "      <td>CCOC(CN(S(=O)(=O)O)S(=O)(=O)O)OCC</td>\n",
       "      <td>NaN</td>\n",
       "    </tr>\n",
       "  </tbody>\n",
       "</table>\n",
       "<p>4717 rows × 5 columns</p>\n",
       "</div>"
      ],
      "text/plain": [
       "      Unnamed: 0      Taste  \\\n",
       "0              0      Umami   \n",
       "1              1     Bitter   \n",
       "2              2  Tasteless   \n",
       "3              3      Sweet   \n",
       "4              4      Sweet   \n",
       "...          ...        ...   \n",
       "3405        3405      Sweet   \n",
       "3406        3406      Sweet   \n",
       "3407        3407      Sweet   \n",
       "3408        3408      Sweet   \n",
       "3409        3409     Bitter   \n",
       "\n",
       "                                             Std_SMILES  \\\n",
       "0     C[C@H](NC(=O)[C@@H]1CCCN1)C(=O)N[C@@H](CCC(N)=...   \n",
       "1                                       OC/C=C/c1ccccc1   \n",
       "2                     COc1ccc(C(=O)c2ccccc2C(=O)O)cc1OC   \n",
       "3                        CC(C)CC1OC(CC(C)C)OC(CC(C)C)O1   \n",
       "4                 C=CC(C)(CCC=C(C)C)OC(=O)/C=C/c1ccccc1   \n",
       "...                                                 ...   \n",
       "3405                             O=C1NS(=O)(=O)c2cscc12   \n",
       "3406          COCC(NC(=Nc1ccc(C#N)cc1)NCC(=O)O)c1ccccc1   \n",
       "3407                  CC(C)(C)OC(=O)CCNC(=O)C(N)CC(=O)O   \n",
       "3408                  CC(C)=CCC/C(C)=C/COC(=O)Cc1ccccc1   \n",
       "3409  CCOC(CN(S(=O)(=O)[O-])S(=O)(=O)[O-])OCC.[Na+]....   \n",
       "\n",
       "                                          Parent_SMILES SEQUENCE  \n",
       "0     C[C@H](NC(=O)[C@@H]1CCCN1)C(=O)N[C@@H](CCC(N)=...      PAQ  \n",
       "1                                       OC/C=C/c1ccccc1      NaN  \n",
       "2                     COc1ccc(C(=O)c2ccccc2C(=O)O)cc1OC      NaN  \n",
       "3                        CC(C)CC1OC(CC(C)C)OC(CC(C)C)O1      NaN  \n",
       "4                 C=CC(C)(CCC=C(C)C)OC(=O)/C=C/c1ccccc1      NaN  \n",
       "...                                                 ...      ...  \n",
       "3405                             O=C1NS(=O)(=O)c2cscc12      NaN  \n",
       "3406          COCC(NC(=Nc1ccc(C#N)cc1)NCC(=O)O)c1ccccc1      NaN  \n",
       "3407                  CC(C)(C)OC(=O)CCNC(=O)C(N)CC(=O)O      NaN  \n",
       "3408                  CC(C)=CCC/C(C)=C/COC(=O)Cc1ccccc1      NaN  \n",
       "3409                  CCOC(CN(S(=O)(=O)O)S(=O)(=O)O)OCC      NaN  \n",
       "\n",
       "[4717 rows x 5 columns]"
      ]
     },
     "execution_count": 7,
     "metadata": {},
     "output_type": "execute_result"
    }
   ],
   "source": [
    "DB"
   ]
  },
  {
   "cell_type": "code",
   "execution_count": 8,
   "id": "e5883ade",
   "metadata": {},
   "outputs": [],
   "source": [
    "DB.Parent_SMILES.to_csv(test_path + os.sep + \"temp.txt\", index=False, header=False)"
   ]
  },
  {
   "cell_type": "code",
   "execution_count": 63,
   "id": "061b3549",
   "metadata": {},
   "outputs": [
    {
     "name": "stderr",
     "output_type": "stream",
     "text": [
      "/Users/lorenzo/opt/anaconda3/envs/VIRTUOUS/lib/python3.10/site-packages/numpy/core/fromnumeric.py:86: RuntimeWarning: overflow encountered in reduce\n",
      "  return ufunc.reduce(obj, axis, dtype, out, **passkwargs)\n",
      "/Users/lorenzo/opt/anaconda3/envs/VIRTUOUS/lib/python3.10/site-packages/numpy/core/fromnumeric.py:86: RuntimeWarning: overflow encountered in reduce\n",
      "  return ufunc.reduce(obj, axis, dtype, out, **passkwargs)\n",
      "/Users/lorenzo/opt/anaconda3/envs/VIRTUOUS/lib/python3.10/site-packages/numpy/core/fromnumeric.py:86: RuntimeWarning: overflow encountered in reduce\n",
      "  return ufunc.reduce(obj, axis, dtype, out, **passkwargs)\n",
      "/Users/lorenzo/opt/anaconda3/envs/VIRTUOUS/lib/python3.10/site-packages/numpy/core/fromnumeric.py:86: RuntimeWarning: overflow encountered in reduce\n",
      "  return ufunc.reduce(obj, axis, dtype, out, **passkwargs)\n",
      "/Users/lorenzo/opt/anaconda3/envs/VIRTUOUS/lib/python3.10/site-packages/numpy/core/fromnumeric.py:86: RuntimeWarning: overflow encountered in reduce\n",
      "  return ufunc.reduce(obj, axis, dtype, out, **passkwargs)\n",
      "/Users/lorenzo/opt/anaconda3/envs/VIRTUOUS/lib/python3.10/site-packages/numpy/core/fromnumeric.py:86: RuntimeWarning: overflow encountered in reduce\n",
      "  return ufunc.reduce(obj, axis, dtype, out, **passkwargs)\n"
     ]
    },
    {
     "data": {
      "text/plain": [
       "0"
      ]
     },
     "execution_count": 63,
     "metadata": {},
     "output_type": "execute_result"
    }
   ],
   "source": [
    "#subprocess.call(['python', code_path + os.sep + 'VirtuousMultiTaste.py', '-f', test_path + os.sep + 'temp.txt', '-d', 'test/temp'])"
   ]
  },
  {
   "cell_type": "code",
   "execution_count": 9,
   "id": "257db50a",
   "metadata": {},
   "outputs": [
    {
     "data": {
      "text/html": [
       "<div>\n",
       "<style scoped>\n",
       "    .dataframe tbody tr th:only-of-type {\n",
       "        vertical-align: middle;\n",
       "    }\n",
       "\n",
       "    .dataframe tbody tr th {\n",
       "        vertical-align: top;\n",
       "    }\n",
       "\n",
       "    .dataframe thead th {\n",
       "        text-align: right;\n",
       "    }\n",
       "</style>\n",
       "<table border=\"1\" class=\"dataframe\">\n",
       "  <thead>\n",
       "    <tr style=\"text-align: right;\">\n",
       "      <th></th>\n",
       "      <th>Unnamed: 0</th>\n",
       "      <th>Taste</th>\n",
       "      <th>Std_SMILES</th>\n",
       "      <th>Parent_SMILES</th>\n",
       "      <th>SEQUENCE</th>\n",
       "      <th>Taste_prediction</th>\n",
       "    </tr>\n",
       "  </thead>\n",
       "  <tbody>\n",
       "    <tr>\n",
       "      <th>0</th>\n",
       "      <td>0</td>\n",
       "      <td>Umami</td>\n",
       "      <td>C[C@H](NC(=O)[C@@H]1CCCN1)C(=O)N[C@@H](CCC(N)=...</td>\n",
       "      <td>C[C@H](NC(=O)[C@@H]1CCCN1)C(=O)N[C@@H](CCC(N)=...</td>\n",
       "      <td>PAQ</td>\n",
       "      <td>Umami</td>\n",
       "    </tr>\n",
       "    <tr>\n",
       "      <th>1</th>\n",
       "      <td>1</td>\n",
       "      <td>Bitter</td>\n",
       "      <td>OC/C=C/c1ccccc1</td>\n",
       "      <td>OC/C=C/c1ccccc1</td>\n",
       "      <td>NaN</td>\n",
       "      <td>Bitter</td>\n",
       "    </tr>\n",
       "    <tr>\n",
       "      <th>2</th>\n",
       "      <td>2</td>\n",
       "      <td>Other</td>\n",
       "      <td>COc1ccc(C(=O)c2ccccc2C(=O)O)cc1OC</td>\n",
       "      <td>COc1ccc(C(=O)c2ccccc2C(=O)O)cc1OC</td>\n",
       "      <td>NaN</td>\n",
       "      <td>Other</td>\n",
       "    </tr>\n",
       "    <tr>\n",
       "      <th>3</th>\n",
       "      <td>3</td>\n",
       "      <td>Sweet</td>\n",
       "      <td>CC(C)CC1OC(CC(C)C)OC(CC(C)C)O1</td>\n",
       "      <td>CC(C)CC1OC(CC(C)C)OC(CC(C)C)O1</td>\n",
       "      <td>NaN</td>\n",
       "      <td>Sweet</td>\n",
       "    </tr>\n",
       "    <tr>\n",
       "      <th>4</th>\n",
       "      <td>4</td>\n",
       "      <td>Sweet</td>\n",
       "      <td>C=CC(C)(CCC=C(C)C)OC(=O)/C=C/c1ccccc1</td>\n",
       "      <td>C=CC(C)(CCC=C(C)C)OC(=O)/C=C/c1ccccc1</td>\n",
       "      <td>NaN</td>\n",
       "      <td>Sweet</td>\n",
       "    </tr>\n",
       "    <tr>\n",
       "      <th>...</th>\n",
       "      <td>...</td>\n",
       "      <td>...</td>\n",
       "      <td>...</td>\n",
       "      <td>...</td>\n",
       "      <td>...</td>\n",
       "      <td>...</td>\n",
       "    </tr>\n",
       "    <tr>\n",
       "      <th>3405</th>\n",
       "      <td>3405</td>\n",
       "      <td>Sweet</td>\n",
       "      <td>O=C1NS(=O)(=O)c2cscc12</td>\n",
       "      <td>O=C1NS(=O)(=O)c2cscc12</td>\n",
       "      <td>NaN</td>\n",
       "      <td>Other</td>\n",
       "    </tr>\n",
       "    <tr>\n",
       "      <th>3406</th>\n",
       "      <td>3406</td>\n",
       "      <td>Sweet</td>\n",
       "      <td>COCC(NC(=Nc1ccc(C#N)cc1)NCC(=O)O)c1ccccc1</td>\n",
       "      <td>COCC(NC(=Nc1ccc(C#N)cc1)NCC(=O)O)c1ccccc1</td>\n",
       "      <td>NaN</td>\n",
       "      <td>Sweet</td>\n",
       "    </tr>\n",
       "    <tr>\n",
       "      <th>3407</th>\n",
       "      <td>3407</td>\n",
       "      <td>Sweet</td>\n",
       "      <td>CC(C)(C)OC(=O)CCNC(=O)C(N)CC(=O)O</td>\n",
       "      <td>CC(C)(C)OC(=O)CCNC(=O)C(N)CC(=O)O</td>\n",
       "      <td>NaN</td>\n",
       "      <td>Bitter</td>\n",
       "    </tr>\n",
       "    <tr>\n",
       "      <th>3408</th>\n",
       "      <td>3408</td>\n",
       "      <td>Sweet</td>\n",
       "      <td>CC(C)=CCC/C(C)=C/COC(=O)Cc1ccccc1</td>\n",
       "      <td>CC(C)=CCC/C(C)=C/COC(=O)Cc1ccccc1</td>\n",
       "      <td>NaN</td>\n",
       "      <td>Other</td>\n",
       "    </tr>\n",
       "    <tr>\n",
       "      <th>3409</th>\n",
       "      <td>3409</td>\n",
       "      <td>Bitter</td>\n",
       "      <td>CCOC(CN(S(=O)(=O)[O-])S(=O)(=O)[O-])OCC.[Na+]....</td>\n",
       "      <td>CCOC(CN(S(=O)(=O)O)S(=O)(=O)O)OCC</td>\n",
       "      <td>NaN</td>\n",
       "      <td>Sweet</td>\n",
       "    </tr>\n",
       "  </tbody>\n",
       "</table>\n",
       "<p>4717 rows × 6 columns</p>\n",
       "</div>"
      ],
      "text/plain": [
       "      Unnamed: 0   Taste                                         Std_SMILES  \\\n",
       "0              0   Umami  C[C@H](NC(=O)[C@@H]1CCCN1)C(=O)N[C@@H](CCC(N)=...   \n",
       "1              1  Bitter                                    OC/C=C/c1ccccc1   \n",
       "2              2   Other                  COc1ccc(C(=O)c2ccccc2C(=O)O)cc1OC   \n",
       "3              3   Sweet                     CC(C)CC1OC(CC(C)C)OC(CC(C)C)O1   \n",
       "4              4   Sweet              C=CC(C)(CCC=C(C)C)OC(=O)/C=C/c1ccccc1   \n",
       "...          ...     ...                                                ...   \n",
       "3405        3405   Sweet                             O=C1NS(=O)(=O)c2cscc12   \n",
       "3406        3406   Sweet          COCC(NC(=Nc1ccc(C#N)cc1)NCC(=O)O)c1ccccc1   \n",
       "3407        3407   Sweet                  CC(C)(C)OC(=O)CCNC(=O)C(N)CC(=O)O   \n",
       "3408        3408   Sweet                  CC(C)=CCC/C(C)=C/COC(=O)Cc1ccccc1   \n",
       "3409        3409  Bitter  CCOC(CN(S(=O)(=O)[O-])S(=O)(=O)[O-])OCC.[Na+]....   \n",
       "\n",
       "                                          Parent_SMILES SEQUENCE  \\\n",
       "0     C[C@H](NC(=O)[C@@H]1CCCN1)C(=O)N[C@@H](CCC(N)=...      PAQ   \n",
       "1                                       OC/C=C/c1ccccc1      NaN   \n",
       "2                     COc1ccc(C(=O)c2ccccc2C(=O)O)cc1OC      NaN   \n",
       "3                        CC(C)CC1OC(CC(C)C)OC(CC(C)C)O1      NaN   \n",
       "4                 C=CC(C)(CCC=C(C)C)OC(=O)/C=C/c1ccccc1      NaN   \n",
       "...                                                 ...      ...   \n",
       "3405                             O=C1NS(=O)(=O)c2cscc12      NaN   \n",
       "3406          COCC(NC(=Nc1ccc(C#N)cc1)NCC(=O)O)c1ccccc1      NaN   \n",
       "3407                  CC(C)(C)OC(=O)CCNC(=O)C(N)CC(=O)O      NaN   \n",
       "3408                  CC(C)=CCC/C(C)=C/COC(=O)Cc1ccccc1      NaN   \n",
       "3409                  CCOC(CN(S(=O)(=O)O)S(=O)(=O)O)OCC      NaN   \n",
       "\n",
       "     Taste_prediction  \n",
       "0               Umami  \n",
       "1              Bitter  \n",
       "2               Other  \n",
       "3               Sweet  \n",
       "4               Sweet  \n",
       "...               ...  \n",
       "3405            Other  \n",
       "3406            Sweet  \n",
       "3407           Bitter  \n",
       "3408            Other  \n",
       "3409            Sweet  \n",
       "\n",
       "[4717 rows x 6 columns]"
      ]
     },
     "execution_count": 9,
     "metadata": {},
     "output_type": "execute_result"
    }
   ],
   "source": [
    "#retrive predicted values\n",
    "DB[\"Taste_prediction\"] = pd.read_csv(test_path + os.sep + \"temp/result_dominant_label.txt\", sep=\"\\t\", header=None)[0]\n",
    "# replace 'Tasteless with 'Other' to be consistent with the original dataset\n",
    "DB[\"Taste\"] = DB[\"Taste\"].replace(\"Tasteless\", \"Other\")\n",
    "DB"
   ]
  },
  {
   "cell_type": "code",
   "execution_count": 10,
   "id": "23474fc9",
   "metadata": {},
   "outputs": [
    {
     "data": {
      "text/plain": [
       "0.5223659105363578"
      ]
     },
     "execution_count": 10,
     "metadata": {},
     "output_type": "execute_result"
    }
   ],
   "source": [
    "# retrieve performance metrics\n",
    "from sklearn.metrics import accuracy_score, f1_score, fbeta_score, precision_score, recall_score, auc   \n",
    "\n",
    "accuracy_score = accuracy_score(DB[\"Taste\"], DB[\"Taste_prediction\"])\n",
    "accuracy_score"
   ]
  },
  {
   "cell_type": "code",
   "execution_count": 11,
   "id": "3b3ab2b9-e004-459c-bec8-e3f8f650fe8e",
   "metadata": {},
   "outputs": [
    {
     "name": "stdout",
     "output_type": "stream",
     "text": [
      "Number of all compounds in the dataset: 4717\n",
      "\n",
      "Number of compounds in the training set: 1307\n",
      "Number of compounds in the testing  set: 3410\n",
      "\n",
      "Number of SWEET compounds in the training set: 360\n",
      "Number of SWEET compounds in the testing  set: 1544\n",
      "\n",
      "Number of BITTER compounds in the training set: 360\n",
      "Number of BITTER compounds in the testing  set: 1577\n",
      "\n",
      "Number of UMAMI compounds in the training set: 227\n",
      "Number of UMAMI compounds in the testing  set: 0\n",
      "\n",
      "Number of OTHER compounds in the training set: 360\n",
      "Number of OTHER compounds in the testing  set: 289\n"
     ]
    }
   ],
   "source": [
    "print (\"Number of all compounds in the dataset: %d\" %DB.shape[0])\n",
    "print (\"\\nNumber of compounds in the training set: %d\" %DB_train.shape[0])\n",
    "print (\"Number of compounds in the testing  set: %d\" %DB_test.shape[0])\n",
    "print (\"\\nNumber of SWEET compounds in the training set: %d\" %(DB_train[\"Taste\"]==\"Sweet\").sum())\n",
    "print (\"Number of SWEET compounds in the testing  set: %d\" %(DB_test[\"Taste\"]==\"Sweet\").sum())\n",
    "print (\"\\nNumber of BITTER compounds in the training set: %d\" %(DB_train[\"Taste\"]==\"Bitter\").sum())\n",
    "print (\"Number of BITTER compounds in the testing  set: %d\" %(DB_test[\"Taste\"]==\"Bitter\").sum())\n",
    "print (\"\\nNumber of UMAMI compounds in the training set: %d\" %(DB_train[\"Taste\"]==\"Umami\").sum())\n",
    "print (\"Number of UMAMI compounds in the testing  set: %d\" %(DB_test[\"Taste\"]==\"Umami\").sum())\n",
    "print (\"\\nNumber of OTHER compounds in the training set: %d\" %(DB_train[\"Taste\"]==\"Tasteless\").sum())\n",
    "print (\"Number of OTHER compounds in the testing  set: %d\" %(DB_test[\"Taste\"]==\"Tasteless\").sum())"
   ]
  },
  {
   "cell_type": "code",
   "execution_count": 12,
   "id": "b443760d-d7b3-42c1-b438-4dd1f6875c02",
   "metadata": {},
   "outputs": [],
   "source": [
    "DB_train = DB_train.reset_index()\n",
    "DB_test  = DB_test.reset_index()\n",
    "DB = DB.reset_index()"
   ]
  },
  {
   "attachments": {},
   "cell_type": "markdown",
   "id": "9fe9ca44-d3f9-4646-9b6e-0a935d1cffd7",
   "metadata": {
    "tags": []
   },
   "source": [
    "## Define the Applicability Domain of Umami DB"
   ]
  },
  {
   "cell_type": "code",
   "execution_count": 13,
   "id": "93fce737-9802-4f1b-bb30-f205a82b93d4",
   "metadata": {},
   "outputs": [],
   "source": [
    "AD_train_file = src_path + os.sep + \"fourtaste_AD_train.pkl\"\n",
    "AD_file = src_path + os.sep + \"fourtaste_AD.pkl\"\n",
    "\n",
    "AD_train = Virtuous.DefineAD(DB_train, smile_field=\"Parent_SMILES\", output_filename=AD_train_file)\n",
    "AD = Virtuous.DefineAD(DB, smile_field=\"Parent_SMILES\", output_filename=AD_file)"
   ]
  },
  {
   "attachments": {},
   "cell_type": "markdown",
   "id": "4f442974-00e0-4c23-ae24-8d0e9ed391ea",
   "metadata": {},
   "source": [
    "#### Define number of neighbors"
   ]
  },
  {
   "cell_type": "code",
   "execution_count": 14,
   "id": "8f09a329-2740-4b31-a25c-5948d80d34b3",
   "metadata": {},
   "outputs": [],
   "source": [
    "vicini = 5\n",
    "metric = \"tanimoto\""
   ]
  },
  {
   "attachments": {},
   "cell_type": "markdown",
   "id": "a2ddcae4-b2f3-4a8a-8bf0-8a1d987a9e08",
   "metadata": {},
   "source": [
    "## Retrieve threshold for the AD definition"
   ]
  },
  {
   "attachments": {},
   "cell_type": "markdown",
   "id": "cf2d6641-36bf-422a-828b-d6e2e38065e9",
   "metadata": {
    "tags": []
   },
   "source": [
    "#### Training-Training comparison"
   ]
  },
  {
   "cell_type": "code",
   "execution_count": 16,
   "id": "ba52e9ad-8937-41c3-9032-a685ebde1779",
   "metadata": {
    "tags": []
   },
   "outputs": [
    {
     "data": {
      "application/vnd.jupyter.widget-view+json": {
       "model_id": "8ba08d5abd34494dbe42ac7a5d6a491e",
       "version_major": 2,
       "version_minor": 0
      },
      "text/plain": [
       "  0%|          | 0/1307 [00:00<?, ?it/s]"
      ]
     },
     "metadata": {},
     "output_type": "display_data"
    }
   ],
   "source": [
    "train_scores = []\n",
    "\n",
    "# cycle over the Umami DB\n",
    "for i in tqdm(range(len(DB_train))):\n",
    "        \n",
    "    # calculate the average similarity score of all compounds with the umami AD\n",
    "    test, score, sim_smiles = Virtuous.TestAD(DB_train.Parent_SMILES[i], filename=AD_train_file, verbose = False, neighbors = vicini, metric=metric) \n",
    "    train_scores.append(score)"
   ]
  },
  {
   "attachments": {},
   "cell_type": "markdown",
   "id": "72de5f14-350a-43be-bc65-3a7a2a213b17",
   "metadata": {},
   "source": [
    "#### Training-Testing comparison"
   ]
  },
  {
   "cell_type": "code",
   "execution_count": 17,
   "id": "69a1a4bc-b819-4222-885a-84ef02babdad",
   "metadata": {
    "tags": []
   },
   "outputs": [
    {
     "data": {
      "application/vnd.jupyter.widget-view+json": {
       "model_id": "b6e2256ace4748bf8e0baa0e91a2706c",
       "version_major": 2,
       "version_minor": 0
      },
      "text/plain": [
       "  0%|          | 0/3410 [00:00<?, ?it/s]"
      ]
     },
     "metadata": {},
     "output_type": "display_data"
    }
   ],
   "source": [
    "test_scores = []\n",
    "\n",
    "# cycle over the Umami DB\n",
    "for i in tqdm(range(len(DB_test))):\n",
    "        \n",
    "    # calculate §average similarity score of all umami compounds with the umami AD\n",
    "    test, score, sim_smiles = Virtuous.TestAD(DB_test.Parent_SMILES[i], filename=AD_train_file, verbose = False, neighbors = vicini, metric = metric) \n",
    "    test_scores.append(score)"
   ]
  },
  {
   "attachments": {},
   "cell_type": "markdown",
   "id": "5a1441b9",
   "metadata": {},
   "source": [
    "### Create a dataframe to analyse the similarity and run the prediction"
   ]
  },
  {
   "cell_type": "code",
   "execution_count": 18,
   "id": "14830905",
   "metadata": {},
   "outputs": [
    {
     "data": {
      "text/html": [
       "<div>\n",
       "<style scoped>\n",
       "    .dataframe tbody tr th:only-of-type {\n",
       "        vertical-align: middle;\n",
       "    }\n",
       "\n",
       "    .dataframe tbody tr th {\n",
       "        vertical-align: top;\n",
       "    }\n",
       "\n",
       "    .dataframe thead th {\n",
       "        text-align: right;\n",
       "    }\n",
       "</style>\n",
       "<table border=\"1\" class=\"dataframe\">\n",
       "  <thead>\n",
       "    <tr style=\"text-align: right;\">\n",
       "      <th></th>\n",
       "      <th>index</th>\n",
       "      <th>Parent_SMILES</th>\n",
       "      <th>Taste</th>\n",
       "      <th>AD_score</th>\n",
       "      <th>AD_quartile</th>\n",
       "    </tr>\n",
       "  </thead>\n",
       "  <tbody>\n",
       "    <tr>\n",
       "      <th>0</th>\n",
       "      <td>2456</td>\n",
       "      <td>CCC(C)C(=O)OC(C)C1(O)CCC2(O)C3CCC4CC(OC5CC(O)C...</td>\n",
       "      <td>Sweet</td>\n",
       "      <td>0.924050</td>\n",
       "      <td>9</td>\n",
       "    </tr>\n",
       "    <tr>\n",
       "      <th>1</th>\n",
       "      <td>1020</td>\n",
       "      <td>CCC(C)C(=O)OC(C)C1(O)CCC2(O)C3CCC4CC(OC5CC(O)C...</td>\n",
       "      <td>Sweet</td>\n",
       "      <td>0.889688</td>\n",
       "      <td>9</td>\n",
       "    </tr>\n",
       "    <tr>\n",
       "      <th>2</th>\n",
       "      <td>174</td>\n",
       "      <td>CCC(C)C(=O)OC(C)C1(O)CCC2(O)C3CCC4CC(OC5CC(O)C...</td>\n",
       "      <td>Sweet</td>\n",
       "      <td>0.889688</td>\n",
       "      <td>9</td>\n",
       "    </tr>\n",
       "    <tr>\n",
       "      <th>3</th>\n",
       "      <td>2889</td>\n",
       "      <td>CCC(C)C(=O)OC(C)C1(O)CCC2(O)C3CCC4CC(OC5CC(O)C...</td>\n",
       "      <td>Sweet</td>\n",
       "      <td>0.870749</td>\n",
       "      <td>9</td>\n",
       "    </tr>\n",
       "    <tr>\n",
       "      <th>4</th>\n",
       "      <td>1890</td>\n",
       "      <td>CCC(C)C(=O)OC(C)C1(O)CCC2(O)C3CCC4CC(OC5CC(O)C...</td>\n",
       "      <td>Sweet</td>\n",
       "      <td>0.870749</td>\n",
       "      <td>9</td>\n",
       "    </tr>\n",
       "    <tr>\n",
       "      <th>...</th>\n",
       "      <td>...</td>\n",
       "      <td>...</td>\n",
       "      <td>...</td>\n",
       "      <td>...</td>\n",
       "      <td>...</td>\n",
       "    </tr>\n",
       "    <tr>\n",
       "      <th>3405</th>\n",
       "      <td>2651</td>\n",
       "      <td>N#N</td>\n",
       "      <td>Tasteless</td>\n",
       "      <td>0.053352</td>\n",
       "      <td>0</td>\n",
       "    </tr>\n",
       "    <tr>\n",
       "      <th>3406</th>\n",
       "      <td>2596</td>\n",
       "      <td>S</td>\n",
       "      <td>Tasteless</td>\n",
       "      <td>0.043956</td>\n",
       "      <td>0</td>\n",
       "    </tr>\n",
       "    <tr>\n",
       "      <th>3407</th>\n",
       "      <td>954</td>\n",
       "      <td>[Ar]</td>\n",
       "      <td>Tasteless</td>\n",
       "      <td>0.041712</td>\n",
       "      <td>0</td>\n",
       "    </tr>\n",
       "    <tr>\n",
       "      <th>3408</th>\n",
       "      <td>1845</td>\n",
       "      <td>Cl.N</td>\n",
       "      <td>Tasteless</td>\n",
       "      <td>0.036840</td>\n",
       "      <td>0</td>\n",
       "    </tr>\n",
       "    <tr>\n",
       "      <th>3409</th>\n",
       "      <td>1856</td>\n",
       "      <td>[He]</td>\n",
       "      <td>Tasteless</td>\n",
       "      <td>0.031916</td>\n",
       "      <td>0</td>\n",
       "    </tr>\n",
       "  </tbody>\n",
       "</table>\n",
       "<p>3410 rows × 5 columns</p>\n",
       "</div>"
      ],
      "text/plain": [
       "      index                                      Parent_SMILES      Taste  \\\n",
       "0      2456  CCC(C)C(=O)OC(C)C1(O)CCC2(O)C3CCC4CC(OC5CC(O)C...      Sweet   \n",
       "1      1020  CCC(C)C(=O)OC(C)C1(O)CCC2(O)C3CCC4CC(OC5CC(O)C...      Sweet   \n",
       "2       174  CCC(C)C(=O)OC(C)C1(O)CCC2(O)C3CCC4CC(OC5CC(O)C...      Sweet   \n",
       "3      2889  CCC(C)C(=O)OC(C)C1(O)CCC2(O)C3CCC4CC(OC5CC(O)C...      Sweet   \n",
       "4      1890  CCC(C)C(=O)OC(C)C1(O)CCC2(O)C3CCC4CC(OC5CC(O)C...      Sweet   \n",
       "...     ...                                                ...        ...   \n",
       "3405   2651                                                N#N  Tasteless   \n",
       "3406   2596                                                  S  Tasteless   \n",
       "3407    954                                               [Ar]  Tasteless   \n",
       "3408   1845                                               Cl.N  Tasteless   \n",
       "3409   1856                                               [He]  Tasteless   \n",
       "\n",
       "      AD_score  AD_quartile  \n",
       "0     0.924050            9  \n",
       "1     0.889688            9  \n",
       "2     0.889688            9  \n",
       "3     0.870749            9  \n",
       "4     0.870749            9  \n",
       "...        ...          ...  \n",
       "3405  0.053352            0  \n",
       "3406  0.043956            0  \n",
       "3407  0.041712            0  \n",
       "3408  0.036840            0  \n",
       "3409  0.031916            0  \n",
       "\n",
       "[3410 rows x 5 columns]"
      ]
     },
     "execution_count": 18,
     "metadata": {},
     "output_type": "execute_result"
    }
   ],
   "source": [
    "test_AD = pd.DataFrame()\n",
    "test_AD[\"Parent_SMILES\"] = DB_test.Parent_SMILES\n",
    "test_AD[\"Taste\"] = DB_test.Taste\n",
    "test_AD[\"AD_score\"] = test_scores\n",
    "\n",
    "# divide the test set into quartiles according to the AD score\n",
    "test_AD = test_AD.sort_values(by=\"AD_score\", ascending=False)\n",
    "test_AD[\"AD_quartile\"] = pd.qcut(test_AD[\"AD_score\"], 10, labels=False)\n",
    "test_AD[\"AD_quartile\"] = test_AD[\"AD_quartile\"].astype(\"int\")\n",
    "test_AD.reset_index(inplace=True)\n",
    "test_AD"
   ]
  },
  {
   "cell_type": "code",
   "execution_count": 36,
   "id": "128e2aa3",
   "metadata": {},
   "outputs": [
    {
     "data": {
      "text/html": [
       "<div>\n",
       "<style scoped>\n",
       "    .dataframe tbody tr th:only-of-type {\n",
       "        vertical-align: middle;\n",
       "    }\n",
       "\n",
       "    .dataframe tbody tr th {\n",
       "        vertical-align: top;\n",
       "    }\n",
       "\n",
       "    .dataframe thead th {\n",
       "        text-align: right;\n",
       "    }\n",
       "</style>\n",
       "<table border=\"1\" class=\"dataframe\">\n",
       "  <thead>\n",
       "    <tr style=\"text-align: right;\">\n",
       "      <th></th>\n",
       "      <th>index</th>\n",
       "      <th>Parent_SMILES</th>\n",
       "      <th>Taste</th>\n",
       "      <th>AD_score</th>\n",
       "      <th>AD_quartile</th>\n",
       "    </tr>\n",
       "  </thead>\n",
       "  <tbody>\n",
       "    <tr>\n",
       "      <th>0</th>\n",
       "      <td>199</td>\n",
       "      <td>NC(=O)CC[C@H](NC(=O)[C@H](CCC(=O)O)NC(=O)[C@H]...</td>\n",
       "      <td>Umami</td>\n",
       "      <td>0.933333</td>\n",
       "      <td>9</td>\n",
       "    </tr>\n",
       "    <tr>\n",
       "      <th>1</th>\n",
       "      <td>1232</td>\n",
       "      <td>NC(=O)CC[C@H](NC(=O)[C@H](CCC(N)=O)NC(=O)[C@H]...</td>\n",
       "      <td>Umami</td>\n",
       "      <td>0.933333</td>\n",
       "      <td>9</td>\n",
       "    </tr>\n",
       "    <tr>\n",
       "      <th>2</th>\n",
       "      <td>359</td>\n",
       "      <td>NC(=O)CC[C@H](NC(=O)[C@@H](N)CCC(=O)O)C(=O)N[C...</td>\n",
       "      <td>Umami</td>\n",
       "      <td>0.933333</td>\n",
       "      <td>9</td>\n",
       "    </tr>\n",
       "    <tr>\n",
       "      <th>3</th>\n",
       "      <td>271</td>\n",
       "      <td>CCC(C)C(=O)OC(C)C1(O)CCC2(O)C3CCC4CC(OC5CC(OC)...</td>\n",
       "      <td>Tasteless</td>\n",
       "      <td>0.927876</td>\n",
       "      <td>9</td>\n",
       "    </tr>\n",
       "    <tr>\n",
       "      <th>4</th>\n",
       "      <td>717</td>\n",
       "      <td>CCC(C)C(=O)OC(C)C1(O)CCC2(O)C3CCC4CC(OC5CC(O)C...</td>\n",
       "      <td>Tasteless</td>\n",
       "      <td>0.924050</td>\n",
       "      <td>9</td>\n",
       "    </tr>\n",
       "    <tr>\n",
       "      <th>...</th>\n",
       "      <td>...</td>\n",
       "      <td>...</td>\n",
       "      <td>...</td>\n",
       "      <td>...</td>\n",
       "      <td>...</td>\n",
       "    </tr>\n",
       "    <tr>\n",
       "      <th>1302</th>\n",
       "      <td>953</td>\n",
       "      <td>[Ca+2].[OH-].[OH-]</td>\n",
       "      <td>Bitter</td>\n",
       "      <td>0.258317</td>\n",
       "      <td>0</td>\n",
       "    </tr>\n",
       "    <tr>\n",
       "      <th>1303</th>\n",
       "      <td>435</td>\n",
       "      <td>FS(F)(F)(F)(F)F</td>\n",
       "      <td>Tasteless</td>\n",
       "      <td>0.252697</td>\n",
       "      <td>0</td>\n",
       "    </tr>\n",
       "    <tr>\n",
       "      <th>1304</th>\n",
       "      <td>129</td>\n",
       "      <td>[Rn]</td>\n",
       "      <td>Tasteless</td>\n",
       "      <td>0.238590</td>\n",
       "      <td>0</td>\n",
       "    </tr>\n",
       "    <tr>\n",
       "      <th>1305</th>\n",
       "      <td>975</td>\n",
       "      <td>[C-]#[O+]</td>\n",
       "      <td>Tasteless</td>\n",
       "      <td>0.232051</td>\n",
       "      <td>0</td>\n",
       "    </tr>\n",
       "    <tr>\n",
       "      <th>1306</th>\n",
       "      <td>166</td>\n",
       "      <td>C</td>\n",
       "      <td>Tasteless</td>\n",
       "      <td>0.047476</td>\n",
       "      <td>0</td>\n",
       "    </tr>\n",
       "  </tbody>\n",
       "</table>\n",
       "<p>1307 rows × 5 columns</p>\n",
       "</div>"
      ],
      "text/plain": [
       "      index                                      Parent_SMILES      Taste  \\\n",
       "0       199  NC(=O)CC[C@H](NC(=O)[C@H](CCC(=O)O)NC(=O)[C@H]...      Umami   \n",
       "1      1232  NC(=O)CC[C@H](NC(=O)[C@H](CCC(N)=O)NC(=O)[C@H]...      Umami   \n",
       "2       359  NC(=O)CC[C@H](NC(=O)[C@@H](N)CCC(=O)O)C(=O)N[C...      Umami   \n",
       "3       271  CCC(C)C(=O)OC(C)C1(O)CCC2(O)C3CCC4CC(OC5CC(OC)...  Tasteless   \n",
       "4       717  CCC(C)C(=O)OC(C)C1(O)CCC2(O)C3CCC4CC(OC5CC(O)C...  Tasteless   \n",
       "...     ...                                                ...        ...   \n",
       "1302    953                                 [Ca+2].[OH-].[OH-]     Bitter   \n",
       "1303    435                                    FS(F)(F)(F)(F)F  Tasteless   \n",
       "1304    129                                               [Rn]  Tasteless   \n",
       "1305    975                                          [C-]#[O+]  Tasteless   \n",
       "1306    166                                                  C  Tasteless   \n",
       "\n",
       "      AD_score  AD_quartile  \n",
       "0     0.933333            9  \n",
       "1     0.933333            9  \n",
       "2     0.933333            9  \n",
       "3     0.927876            9  \n",
       "4     0.924050            9  \n",
       "...        ...          ...  \n",
       "1302  0.258317            0  \n",
       "1303  0.252697            0  \n",
       "1304  0.238590            0  \n",
       "1305  0.232051            0  \n",
       "1306  0.047476            0  \n",
       "\n",
       "[1307 rows x 5 columns]"
      ]
     },
     "execution_count": 36,
     "metadata": {},
     "output_type": "execute_result"
    }
   ],
   "source": [
    "train_AD = pd.DataFrame()\n",
    "train_AD[\"Parent_SMILES\"] = DB_train.Parent_SMILES\n",
    "train_AD[\"Taste\"] = DB_train.Taste\n",
    "train_AD[\"AD_score\"] = train_scores\n",
    "\n",
    "# divide the train set into quartiles according to the AD score\n",
    "train_AD = train_AD.sort_values(by=\"AD_score\", ascending=False)\n",
    "train_AD[\"AD_quartile\"] = pd.qcut(train_AD[\"AD_score\"], 10, labels=False)\n",
    "train_AD[\"AD_quartile\"] = train_AD[\"AD_quartile\"].astype(\"int\")\n",
    "train_AD.reset_index(inplace=True)\n",
    "train_AD\n"
   ]
  },
  {
   "cell_type": "code",
   "execution_count": 37,
   "id": "08ae0ed0",
   "metadata": {},
   "outputs": [],
   "source": [
    "# export Parent SMILES into a txt\n",
    "test_AD.Parent_SMILES.to_csv(test_path + os.sep + \"test_AD_SMILES.txt\", sep=\"\\t\", index=False, header=False)\n",
    "train_AD.Parent_SMILES.to_csv(test_path + os.sep + \"train_AD_SMILES.txt\", sep=\"\\t\", index=False, header=False)"
   ]
  },
  {
   "cell_type": "code",
   "execution_count": 38,
   "id": "f7af6f06",
   "metadata": {},
   "outputs": [
    {
     "name": "stderr",
     "output_type": "stream",
     "text": [
      "/Users/lorenzo/opt/anaconda3/envs/VIRTUOUS/lib/python3.10/site-packages/numpy/core/fromnumeric.py:86: RuntimeWarning: overflow encountered in reduce\n",
      "  return ufunc.reduce(obj, axis, dtype, out, **passkwargs)\n",
      "/Users/lorenzo/opt/anaconda3/envs/VIRTUOUS/lib/python3.10/site-packages/numpy/core/fromnumeric.py:86: RuntimeWarning: overflow encountered in reduce\n",
      "  return ufunc.reduce(obj, axis, dtype, out, **passkwargs)\n",
      "/Users/lorenzo/opt/anaconda3/envs/VIRTUOUS/lib/python3.10/site-packages/numpy/core/fromnumeric.py:86: RuntimeWarning: overflow encountered in reduce\n",
      "  return ufunc.reduce(obj, axis, dtype, out, **passkwargs)\n",
      "/Users/lorenzo/opt/anaconda3/envs/VIRTUOUS/lib/python3.10/site-packages/numpy/core/fromnumeric.py:86: RuntimeWarning: overflow encountered in reduce\n",
      "  return ufunc.reduce(obj, axis, dtype, out, **passkwargs)\n",
      "/Users/lorenzo/opt/anaconda3/envs/VIRTUOUS/lib/python3.10/site-packages/numpy/core/fromnumeric.py:86: RuntimeWarning: overflow encountered in reduce\n",
      "  return ufunc.reduce(obj, axis, dtype, out, **passkwargs)\n",
      "/Users/lorenzo/opt/anaconda3/envs/VIRTUOUS/lib/python3.10/site-packages/numpy/core/fromnumeric.py:86: RuntimeWarning: overflow encountered in reduce\n",
      "  return ufunc.reduce(obj, axis, dtype, out, **passkwargs)\n"
     ]
    },
    {
     "data": {
      "text/plain": [
       "0"
      ]
     },
     "execution_count": 38,
     "metadata": {},
     "output_type": "execute_result"
    }
   ],
   "source": [
    "# run the prediction code (un commment to run)\n",
    "#subprocess.call(['python', code_path + os.sep + 'VirtuousMultiTaste.py', '-f', test_path + os.sep + 'test_AD_SMILES.txt', '-d', 'test/test_AD'])\n",
    "#subprocess.call(['python', code_path + os.sep + 'VirtuousMultiTaste.py', '-f', test_path + os.sep + 'train_AD_SMILES.txt', '-d', 'test/train_AD'])"
   ]
  },
  {
   "cell_type": "code",
   "execution_count": 39,
   "id": "6a4aaf24",
   "metadata": {},
   "outputs": [],
   "source": [
    "# retrieve the results and add into a column of test_AD\n",
    "test_AD[\"Taste_prediction\"] = pd.read_csv(test_path + os.sep + \"test_AD/result_dominant_label.txt\", sep=\"\\t\", header=None)[0]\n",
    "test_AD[\"Taste\"] = test_AD[\"Taste\"].replace(\"Tasteless\", \"Other\")\n",
    "\n",
    "# retrieve the results and add into a column of train_AD\n",
    "train_AD[\"Taste_prediction\"] = pd.read_csv(test_path + os.sep + \"train_AD/result_dominant_label.txt\", sep=\"\\t\", header=None)[0]\n",
    "train_AD[\"Taste\"] = train_AD[\"Taste\"].replace(\"Tasteless\", \"Other\")"
   ]
  },
  {
   "cell_type": "code",
   "execution_count": 40,
   "id": "28cc929d",
   "metadata": {},
   "outputs": [],
   "source": [
    "# calcualate accuracy per quartile\n",
    "from sklearn.metrics import accuracy_score\n",
    "\n",
    "acc_test = []\n",
    "acc_train = []\n",
    "\n",
    "# get number of quartiles\n",
    "n_quatriles = np.max(test_AD.AD_quartile) + 1\n",
    "\n",
    "for i in range(n_quatriles):\n",
    "    acc_test.append(accuracy_score(test_AD[test_AD.AD_quartile==i].Taste, test_AD[test_AD.AD_quartile==i].Taste_prediction))\n",
    "    acc_train.append(accuracy_score(train_AD[train_AD.AD_quartile==i].Taste, train_AD[train_AD.AD_quartile==i].Taste_prediction))"
   ]
  },
  {
   "cell_type": "code",
   "execution_count": 41,
   "id": "49804919",
   "metadata": {},
   "outputs": [
    {
     "name": "stdout",
     "output_type": "stream",
     "text": [
      "Average accuracy on the test set: 0.72\n",
      "Average accuracy on the train set: 1.00\n"
     ]
    }
   ],
   "source": [
    "average_acc_test = np.mean(acc_test)\n",
    "average_acc_train = np.mean(acc_train)\n",
    "\n",
    "print (\"Average accuracy on the test set: %.2f\" %average_acc_test)\n",
    "print (\"Average accuracy on the train set: %.2f\" %average_acc_train)"
   ]
  },
  {
   "cell_type": "code",
   "execution_count": 51,
   "id": "0f15a8b7",
   "metadata": {},
   "outputs": [
    {
     "data": {
      "image/png": "[encoded data removed]",
      "text/plain": [
       "<Figure size 1000x500 with 1 Axes>"
      ]
     },
     "metadata": {},
     "output_type": "display_data"
    }
   ],
   "source": [
    "# plot the accuracy per quartile for the trainin (light grey) and test set (dark grey)\n",
    "plt.figure(figsize=(10,5))\n",
    "width=0.3\n",
    "plt.bar(np.arange(n_quatriles), acc_train, width=width, color=\"lightgrey\", label=\"Train vs Train\")\n",
    "plt.bar(np.arange(n_quatriles)+width, acc_test, width=width, color=\"darkgrey\", label=\"Test vs Train\")\n",
    "plt.xticks(np.arange(n_quatriles)+width/2, np.arange(n_quatriles)+1)\n",
    "plt.xlabel(\"Quartile according to the Average Similarity Score\")\n",
    "plt.ylabel(\"Accuracy\")\n",
    "plt.title(\"Accuracy per quartile\")\n",
    "plt.legend(bbox_to_anchor=(1.05, 1), loc='upper left', borderaxespad=0.)\n",
    "plt.show()"
   ]
  },
  {
   "cell_type": "code",
   "execution_count": 64,
   "id": "2dc4ac92",
   "metadata": {},
   "outputs": [
    {
     "data": {
      "image/png": "[encoded data removed]",
      "text/plain": [
       "<Figure size 629.921x314.961 with 1 Axes>"
      ]
     },
     "metadata": {},
     "output_type": "display_data"
    }
   ],
   "source": [
    "# plot the accuracy per quartile for the trainin (light grey) and test set (dark grey)\n",
    "plt.figure(figsize=(16/2.54,8/2.54))\n",
    "width=0.8\n",
    "plt.bar(np.arange(n_quatriles), acc_test, width=width, color=\"darkgrey\", label=\"Test\")\n",
    "plt.xticks(np.arange(n_quatriles), np.arange(n_quatriles)+1)\n",
    "plt.xlabel(\"Quartile\")\n",
    "plt.ylabel(\"Accuracy\")\n",
    "#plt.title(\"Accuracy per quartile in the test set\")\n",
    "plt.tight_layout()\n",
    "plt.savefig(\"figures/test_quartile_accuracy.png\", dpi=300, bbox_inches='tight')"
   ]
  },
  {
   "attachments": {},
   "cell_type": "markdown",
   "id": "2e566536-93ea-459d-8ce9-76c00bb2a5a3",
   "metadata": {},
   "source": [
    "### Plot Scores (Useless in this case)"
   ]
  },
  {
   "cell_type": "code",
   "execution_count": 52,
   "id": "02eba57b-02bc-4feb-b0c9-7920c226429e",
   "metadata": {
    "jupyter": {
     "source_hidden": true
    },
    "tags": []
   },
   "outputs": [
    {
     "name": "stdout",
     "output_type": "stream",
     "text": [
      "Setting similarity threshold to 0.032\n"
     ]
    }
   ],
   "source": [
    "all_scores = train_scores + test_scores\n",
    "\n",
    "index_train = [\"Train vs Train\"] * len(train_scores)\n",
    "index_test  = [\"Test vs Train\"]  * len(test_scores)\n",
    "all_index   = index_train + index_test\n",
    "\n",
    "df = pd.DataFrame()\n",
    "df[\"data\"] = all_scores\n",
    "df[\"index\"] = all_index\n",
    "\n",
    "threshold = np.min(all_scores)\n",
    "print (\"Setting similarity threshold to %.3f\" %threshold)"
   ]
  },
  {
   "cell_type": "code",
   "execution_count": 53,
   "id": "2fecd764-db28-405c-9306-e8d9b9a678bc",
   "metadata": {
    "jupyter": {
     "source_hidden": true
    },
    "tags": []
   },
   "outputs": [
    {
     "data": {
      "image/png": "[encoded data removed]",
      "text/plain": [
       "<Figure size 640x480 with 1 Axes>"
      ]
     },
     "metadata": {},
     "output_type": "display_data"
    }
   ],
   "source": [
    "g = sns.histplot(data = df, x = \"data\", hue = \"index\", palette=\"Greys\", multiple=\"dodge\", shrink=1, stat = 'count')\n",
    "g.legend_.set_title(None)\n",
    "plt.axvline(threshold, 0, 60 , color='grey', linestyle = '--')\n",
    "plt.xlabel(\"Average Similariry Score\")\n",
    "plt.xlim(0,1)\n",
    "plt.xticks(np.arange(0, 1, step=0.1))\n",
    "plt.savefig(data_path + \"AD_Train_vs_Test.png\", dpi=300)\n",
    "plt.show()"
   ]
  }
 ],
 "metadata": {
  "kernelspec": {
   "display_name": "Python 3 (ipykernel)",
   "language": "python",
   "name": "python3"
  },
  "language_info": {
   "codemirror_mode": {
    "name": "ipython",
    "version": 3
   },
   "file_extension": ".py",
   "mimetype": "text/x-python",
   "name": "python",
   "nbconvert_exporter": "python",
   "pygments_lexer": "ipython3",
   "version": "3.10.9"
  }
 },
 "nbformat": 4,
 "nbformat_minor": 5
}
