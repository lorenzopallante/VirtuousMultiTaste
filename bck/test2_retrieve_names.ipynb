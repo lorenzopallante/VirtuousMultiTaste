{
 "cells": [
  {
   "cell_type": "code",
   "execution_count": 16,
   "metadata": {},
   "outputs": [],
   "source": [
    "# retrive compound name from its SMILES from pubchem\n",
    "\n",
    "smi = \"C(C1C(C(C(C(O1)OC2(C(C(C(O2)CO)O)O)CO)O)O)O)O\" "
   ]
  },
  {
   "cell_type": "code",
   "execution_count": 22,
   "metadata": {},
   "outputs": [
    {
     "name": "stdout",
     "output_type": "stream",
     "text": [
      "2-[3,4-dihydroxy-2,5-bis(hydroxymethyl)oxolan-2-yl]oxy-6-(hydroxymethyl)oxane-3,4,5-triol\n"
     ]
    }
   ],
   "source": [
    "import pubchempy as pcp\n",
    "from pubchempy import Compound\n",
    "from pubchempy import get_compounds\n",
    "\n",
    "cpnd = get_compounds(smi, 'smiles')[0]\n",
    "compound_dict = cpnd.to_dict()\n",
    "compound_name = compound_dict['iupac_name']\n",
    "print(compound_name)"
   ]
  },
  {
   "cell_type": "code",
   "execution_count": 21,
   "metadata": {},
   "outputs": [
    {
     "data": {
      "text/plain": [
       "[Compound(1115)]"
      ]
     },
     "execution_count": 21,
     "metadata": {},
     "output_type": "execute_result"
    }
   ],
   "source": [
    "cpnd"
   ]
  },
  {
   "cell_type": "code",
   "execution_count": 23,
   "metadata": {},
   "outputs": [
    {
     "name": "stdout",
     "output_type": "stream",
     "text": [
      "2-acetyloxybenzoic acid\n"
     ]
    }
   ],
   "source": [
    "import requests\n",
    "\n",
    "def get_pubchem_name(smiles):\n",
    "    base_url = \"https://pubchem.ncbi.nlm.nih.gov/rest/pug/compound\"\n",
    "    operation = \"property/IUPACName/JSON\"\n",
    "\n",
    "    try:\n",
    "        url = f\"{base_url}/smiles/{smiles}/{operation}\"\n",
    "        response = requests.get(url)\n",
    "        if response.status_code == 200:\n",
    "            data = response.json()\n",
    "            compound_name = data['PropertyTable']['Properties'][0]['IUPACName']\n",
    "            return compound_name\n",
    "        elif response.status_code == 404:\n",
    "            return 'Compound not found'\n",
    "        else:\n",
    "            return 'Error occurred during PubChem query'\n",
    "    except requests.exceptions.RequestException:\n",
    "        return 'Error occurred during PubChem query'\n",
    "\n",
    "# Example usage\n",
    "smiles = 'CC(=O)Oc1ccccc1C(=O)O'\n",
    "compound_name = get_pubchem_name(smiles)\n",
    "print(compound_name)\n"
   ]
  },
  {
   "cell_type": "code",
   "execution_count": 28,
   "metadata": {},
   "outputs": [],
   "source": [
    "strychnine_smiles = 'C1CN2CC3=CCO[C@H]4CC(=O)N5[C@H]6[C@H]4[C@H]3C[C@H]2[C@@]61C7=CC=CC=C75'"
   ]
  },
  {
   "cell_type": "code",
   "execution_count": 29,
   "metadata": {},
   "outputs": [
    {
     "data": {
      "text/plain": [
       "'(4aR,5aS,8aR,13aS,15aS,15bR)-4a,5,5a,7,8,13a,15,15a,15b,16-decahydro-2H-4,6-methanoindolo[3,2,1-ij]oxepino[2,3,4-de]pyrrolo[2,3-h]quinolin-14-one'"
      ]
     },
     "execution_count": 29,
     "metadata": {},
     "output_type": "execute_result"
    }
   ],
   "source": [
    "get_pubchem_name(strychnine_smiles)"
   ]
  }
 ],
 "metadata": {
  "kernelspec": {
   "display_name": "VIRTUOUS",
   "language": "python",
   "name": "python3"
  },
  "language_info": {
   "codemirror_mode": {
    "name": "ipython",
    "version": 3
   },
   "file_extension": ".py",
   "mimetype": "text/x-python",
   "name": "python",
   "nbconvert_exporter": "python",
   "pygments_lexer": "ipython3",
   "version": "3.10.9"
  },
  "orig_nbformat": 4
 },
 "nbformat": 4,
 "nbformat_minor": 2
}
